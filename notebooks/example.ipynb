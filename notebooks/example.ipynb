{
 "cells": [
  {
   "cell_type": "markdown",
   "id": "77b1ce54",
   "metadata": {},
   "source": [
    "# Example: Delirium Visualization\n",
    "\n",
    "This notebook shows how to use the `corrections_loader` and `heatmap` functions\n",
    "from the `deliriumviz` package."
   ]
  },
  {
   "cell_type": "code",
   "execution_count": 1,
   "id": "52b6c198",
   "metadata": {},
   "outputs": [],
   "source": [
    "# Imports from the package\n",
    "from deliriumviz import corrections_loader, heatmap\n",
    "import pandas as pd"
   ]
  },
  {
   "cell_type": "markdown",
   "id": "b4345183",
   "metadata": {},
   "source": [
    "## 1. Load correction data\n",
    "\n",
    "Here we simulate loading data. In practice, `corrections_loader`\n",
    "will parse the daily HTML calibration reports into a structured DataFrame."
   ]
  },
  {
   "cell_type": "code",
   "execution_count": 2,
   "id": "6be8b5fd",
   "metadata": {},
   "outputs": [
    {
     "name": "stdout",
     "output_type": "stream",
     "text": [
      "This is a placeholder for the corrections_loader function.\n"
     ]
    }
   ],
   "source": [
    "# Example: use a sample HTML file (replace with a real path later)\n",
    "data = corrections_loader()\n",
    "data"
   ]
  },
  {
   "cell_type": "markdown",
   "id": "f7ef0634",
   "metadata": {},
   "source": [
    "## 2. Generate a heatmap\n",
    "\n",
    "Now we pass the DataFrame into `heatmap` to visualize rail adjustments\n",
    "over the tunnel layout."
   ]
  },
  {
   "cell_type": "code",
   "execution_count": 3,
   "id": "06a7403d",
   "metadata": {},
   "outputs": [
    {
     "name": "stdout",
     "output_type": "stream",
     "text": [
      "This is a placeholder for the heatmap function.\n"
     ]
    }
   ],
   "source": [
    "# Generate a simple heatmap\n",
    "heatmap()"
   ]
  },
  {
   "cell_type": "markdown",
   "id": "7abe0498",
   "metadata": {},
   "source": [
    "## Notes\n",
    "- Install the data in [data](../data/README.md) directory. \n",
    "- tunnel image pending\n",
    "- This notebook is for demonstration; final deliverables should go into the `deliverables/` directory.\n",
    "\n",
    "@jpgil, 2025-09-17"
   ]
  }
 ],
 "metadata": {
  "kernelspec": {
   "display_name": "venv",
   "language": "python",
   "name": "python3"
  },
  "language_info": {
   "codemirror_mode": {
    "name": "ipython",
    "version": 3
   },
   "file_extension": ".py",
   "mimetype": "text/x-python",
   "name": "python",
   "nbconvert_exporter": "python",
   "pygments_lexer": "ipython3",
   "version": "3.13.5"
  }
 },
 "nbformat": 4,
 "nbformat_minor": 5
}
